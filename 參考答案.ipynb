{
 "cells": [
  {
   "cell_type": "markdown",
   "metadata": {},
   "source": [
    "# MOAI 2025 Training \n",
    "\n",
    "本題目是 MOAI 2025 的訓練題目\n",
    "\n",
    "你將使用 PyTorch 來構建一個卷積神經網絡（CNN）模型，用於識別手寫數字，請按照以下步驟完成任務。\n",
    "\n",
    "第一段代碼中的 TaskGrader 是一個評分器，請不要修改。可以點擊代碼塊中左側的深色部分將代碼摺疊。"
   ]
  },
  {
   "cell_type": "code",
   "execution_count": null,
   "metadata": {
    "execution": {
     "iopub.execute_input": "2025-04-27T07:36:11.903890Z",
     "iopub.status.busy": "2025-04-27T07:36:11.903601Z",
     "iopub.status.idle": "2025-04-27T07:36:11.921741Z",
     "shell.execute_reply": "2025-04-27T07:36:11.920926Z",
     "shell.execute_reply.started": "2025-04-27T07:36:11.903868Z"
    },
    "jupyter": {
     "source_hidden": true
    },
    "trusted": true
   },
   "outputs": [],
   "source": [
    "# 此部分為評分器，請勿編輯此單元格\n",
    "\n",
    "import torch\n",
    "import pandas as pd\n",
    "\n",
    "\n",
    "class TaskGrader:\n",
    "    def __init__(self):\n",
    "        self.q1_1_pass = False\n",
    "        self.q1_2_pass = False\n",
    "        self.q1_3_pass = False\n",
    "\n",
    "        self.q2_1_pass = False\n",
    "        self.q2_2_pass = False\n",
    "        self.q2_3_pass = False\n",
    "        self.q2_4_pass = False\n",
    "        self.q2_5_pass = False\n",
    "\n",
    "        self.q3_1_pass = False\n",
    "        self.q3_2_pass = False\n",
    "\n",
    "    def q1_1_check(self, images_raw, labels_raw):\n",
    "        try:\n",
    "            assert isinstance(images_raw, torch.Tensor), \"圖片應該是 torch.Tensor 類型\"\n",
    "            assert images_raw.shape == (60000, 28, 28), f\"圖片維度大小應該是 (60000, 28, 28)，現在是{images_raw.shape}\"\n",
    "\n",
    "            assert isinstance(labels_raw, pd.DataFrame), \"標籤應該是 pandas DataFrame 類型\"\n",
    "            assert len(labels_raw) == 60000, f\"標籤應該有 60000 行，現在是 {len(labels_raw)}\"\n",
    "        except AssertionError as e:\n",
    "            print(\"Q1.1未通過:\", str(e))\n",
    "            return\n",
    "\n",
    "        self.q1_1_pass = True\n",
    "        print(\"Q1.1通過 (5分)\")\n",
    "\n",
    "    def q1_2_check(self, images, labels):\n",
    "        try:\n",
    "            assert isinstance(images, torch.Tensor), \"歸一化後的圖像必須是 torch.Tensor 類型\"\n",
    "            assert isinstance(labels, torch.Tensor), \"標籤必須是 torch.Tensor 類型\"\n",
    "\n",
    "            assert -0.1 < images.mean() < 0.1, f\"歸一化圖像的均值應接近0，現在是{images.mean()}\"\n",
    "            assert 0.9 < images.std() < 1.1, f\"歸一化圖像的標準差應接近1，現在是{images.std()}\"\n",
    "        except AssertionError as e:\n",
    "            print(\"Q1.2未通過:\", str(e))\n",
    "            return\n",
    "\n",
    "        self.q1_2_pass = True\n",
    "        print(\"Q1.2通過 (5分)\")\n",
    "\n",
    "    def q1_3_check(self, train_dataset, val_dataset):\n",
    "        try:\n",
    "            total_size = len(train_dataset) + len(val_dataset)\n",
    "            train_ratio = len(train_dataset) / total_size\n",
    "\n",
    "            assert 0.79 <= train_ratio <= 0.81, f\"訓練-驗證集分割應為8:2，現在是{train_ratio:.2f}:{1 - train_ratio:.2f}\"\n",
    "        except AssertionError as e:\n",
    "            print(\"Q1.3未通過:\", str(e))\n",
    "            return\n",
    "\n",
    "        self.q1_3_pass = True\n",
    "        print(\"Q1.3通過 (5分)\")\n",
    "\n",
    "    def q2_check(self, model):\n",
    "        try:\n",
    "            for name, module in model.named_modules():\n",
    "                if isinstance(module, torch.nn.Conv2d):\n",
    "                    self.q2_1_pass = True\n",
    "                elif isinstance(module, torch.nn.MaxPool2d):\n",
    "                    self.q2_2_pass = True\n",
    "                elif any(\n",
    "                    isinstance(module, act)\n",
    "                    for act in [\n",
    "                        torch.nn.ReLU,\n",
    "                        torch.nn.Sigmoid,\n",
    "                        torch.nn.Tanh,\n",
    "                        torch.nn.ELU,\n",
    "                        torch.nn.LeakyReLU,\n",
    "                        torch.nn.PReLU,\n",
    "                    ]\n",
    "                ):\n",
    "                    self.q2_3_pass = True\n",
    "                elif isinstance(module, torch.nn.Linear):\n",
    "                    if module.out_features == 10:\n",
    "                        self.q2_4_pass = True\n",
    "                        \n",
    "            \n",
    "            x = torch.randn(1, 28, 28).to(next(model.parameters()).device)\n",
    "            output = model(x)\n",
    "            if output.shape[1] == 10:\n",
    "                self.q2_5_pass = True\n",
    "                \n",
    "        except Exception:\n",
    "            pass\n",
    "\n",
    "        checks = [\n",
    "            (self.q2_1_pass, \"Q2.1\", \"模型應包含卷積層\", 2),\n",
    "            (self.q2_2_pass, \"Q2.2\", \"模型應包含池化層\", 2),\n",
    "            (self.q2_3_pass, \"Q2.3\", \"模型應包含激活函數\", 2),\n",
    "            (self.q2_4_pass, \"Q2.4\", \"模型應包含輸出層\", 2),\n",
    "            (self.q2_5_pass, \"Q2.5\", \"未能成功定義前向傳播，輸出分類結果\", 7)\n",
    "        ]\n",
    "        \n",
    "        for check in checks:\n",
    "            if not check[0]:\n",
    "                print(f\"{check[1]}未通過: {check[2]}\")\n",
    "            else:\n",
    "                print(f\"{check[1]}通過 ({check[3]}分)\")\n",
    "\n",
    "\n",
    "    def q3_1_check(self, criterion, optimizer):\n",
    "        try:\n",
    "            valid_loss_fns = [\n",
    "                torch.nn.CrossEntropyLoss,\n",
    "                torch.nn.NLLLoss,\n",
    "                torch.nn.MSELoss,\n",
    "                torch.nn.L1Loss,\n",
    "                torch.nn.SmoothL1Loss,\n",
    "                torch.nn.HuberLoss,\n",
    "                torch.nn.SoftMarginLoss,\n",
    "                torch.nn.MultiLabelMarginLoss,\n",
    "                torch.nn.MultiLabelSoftMarginLoss,\n",
    "            ]\n",
    "\n",
    "            valid_optimizers = [\n",
    "                torch.optim.SGD,\n",
    "                torch.optim.Adam,\n",
    "                torch.optim.RMSprop,\n",
    "                torch.optim.Adagrad,\n",
    "                torch.optim.Adadelta,\n",
    "                torch.optim.Adamax,\n",
    "                torch.optim.AdamW,\n",
    "                torch.optim.SparseAdam,\n",
    "                torch.optim.ASGD,\n",
    "                torch.optim.Rprop,\n",
    "                torch.optim.LBFGS,\n",
    "                torch.optim.NAdam,\n",
    "            ]\n",
    "\n",
    "            is_valid_loss = any(isinstance(criterion, loss_fn) for loss_fn in valid_loss_fns)\n",
    "            is_valid_optimizer = any(isinstance(optimizer, opt) for opt in valid_optimizers)\n",
    "\n",
    "            assert is_valid_loss, \"必須使用有效的損失函數 (CrossEntropyLoss, NLLLoss, MSELoss 等)\"\n",
    "            assert is_valid_optimizer, \"必須使用有效的優化器 (SGD, Adam, RMSprop 等)\"\n",
    "\n",
    "        except Exception as e:\n",
    "            print(\"Q3.1未通過:\", str(e))\n",
    "            return\n",
    "\n",
    "        self.q3_1_pass = True\n",
    "        print(\"Q3.1通過 (5分)\")\n",
    "\n",
    "    def q3_2_check(self, train_losses, val_losses, train_accs, val_accs):\n",
    "        try:\n",
    "            assert len(train_losses) >= 5, f\"應至少訓練5個週期，目前{len(train_losses)}\"\n",
    "            assert len(val_losses) >= 5, f\"應至少驗證5個週期，目前{len(val_losses)}\"\n",
    "            assert len(train_accs) >= 5, f\"應至少記錄5個週期的訓練準確率，目前{len(train_accs)}\"\n",
    "            assert len(val_accs) >= 5, f\"應至少記錄5個週期的驗證準確率，目前{len(val_accs)}\"\n",
    "\n",
    "            assert train_losses[0] > train_losses[-1], \"訓練損失應隨着週期減少\"\n",
    "\n",
    "            assert train_accs[-1] > 0.5, f\"最終訓練準確率應更高，目前{train_accs[-1]:.2f}\"\n",
    "            assert val_accs[-1] > 0.5, f\"最終驗證準確率應更高，目前{val_accs[-1]:.2f}\"\n",
    "\n",
    "        except Exception as e:\n",
    "            print(\"Q3.2未通過:\", str(e))\n",
    "            return\n",
    "\n",
    "        self.q3_2_pass = True\n",
    "        print(\"Q3.2通過 (15分)\")\n",
    "\n",
    "\n",
    "task_grader = TaskGrader()\n",
    "\n",
    "# 此部分為評分器，請勿編輯此單元格"
   ]
  },
  {
   "cell_type": "markdown",
   "metadata": {},
   "source": [
    "### 小題 1：數據讀取與預處理 (15 分)\n",
    "\n",
    "數據集包括以下內容\n",
    "\n",
    "- 訓練圖像數據：train_images.pt (shape: [60000, 28, 28])\n",
    "- 訓練標籤數據：train_labels.csv\n",
    "- 測試圖像數據：test_images.pt (shape: [10000, 28, 28])\n",
    "\n",
    "其中，訓練數據集提供圖像和標籤，測試數據集只提供圖像，不提供標籤\n",
    "\n",
    "**本題目要求完成以下內容**\n",
    "\n",
    "1. 讀取數據集圖片和標籤 (5分)\n",
    "2. 將數據集按 **8:2** 的比例劃分為訓練集和驗證集。 (5分)\n",
    "3. 將圖像數據歸一化並轉換為 Tensor。 (5分)"
   ]
  },
  {
   "cell_type": "code",
   "execution_count": null,
   "metadata": {
    "_cell_guid": "b1076dfc-b9ad-4769-8c92-a6c4dae69d19",
    "_uuid": "8f2839f25d086af736a60e9eeb907d3b93b6e0e5",
    "execution": {
     "iopub.execute_input": "2025-04-27T07:36:11.922998Z",
     "iopub.status.busy": "2025-04-27T07:36:11.922790Z",
     "iopub.status.idle": "2025-04-27T07:36:12.482697Z",
     "shell.execute_reply": "2025-04-27T07:36:12.481968Z",
     "shell.execute_reply.started": "2025-04-27T07:36:11.922980Z"
    },
    "trusted": true
   },
   "outputs": [],
   "source": [
    "import torch\n",
    "import torch.nn as nn\n",
    "from torch.utils.data import TensorDataset, DataLoader, random_split\n",
    "import pandas as pd\n",
    "\n",
    "# 讀取數據集，'train-images.pt' 和 'train-labels.csv'\n",
    "images_raw = torch.load('/kaggle/input/moai-2025-training/train_images.pt', weights_only=False)\n",
    "labels_raw = pd.read_csv('/kaggle/input/moai-2025-training/train_labels.csv')   \n",
    "\n",
    "# 歸一化數據集並轉換為 torch.Tensor\n",
    "images = (images_raw.float() - images_raw.float().mean()) / images_raw.float().std()\n",
    "labels = torch.tensor(labels_raw['label'].values)\n",
    "\n",
    "# 創建數據集\n",
    "dataset = TensorDataset(images, labels)\n",
    "\n",
    "# 按照 8:2 劃分成訓練集和驗證集\n",
    "train_size = int(0.8 * len(dataset))\n",
    "val_size = len(dataset) - train_size\n",
    "train_dataset, val_dataset = random_split(dataset, [train_size, val_size])\n",
    "\n",
    "train_loader = DataLoader(train_dataset, batch_size=128, shuffle=True)\n",
    "val_loader = DataLoader(val_dataset, batch_size=128)"
   ]
  },
  {
   "cell_type": "code",
   "execution_count": 17,
   "metadata": {
    "execution": {
     "iopub.execute_input": "2025-04-27T07:36:12.484159Z",
     "iopub.status.busy": "2025-04-27T07:36:12.483859Z",
     "iopub.status.idle": "2025-04-27T07:36:12.543747Z",
     "shell.execute_reply": "2025-04-27T07:36:12.542940Z",
     "shell.execute_reply.started": "2025-04-27T07:36:12.484128Z"
    },
    "trusted": true
   },
   "outputs": [
    {
     "name": "stdout",
     "output_type": "stream",
     "text": [
      "Q1.1通過 (5分)\n",
      "Q1.2通過 (5分)\n",
      "Q1.3通過 (5分)\n"
     ]
    }
   ],
   "source": [
    "# 以下代碼執行後可以判斷你的作答是否正確，請勿修改\n",
    "\n",
    "task_grader.q1_1_check(images_raw, labels_raw)\n",
    "task_grader.q1_2_check(images, labels)\n",
    "task_grader.q1_3_check(train_dataset, val_dataset)"
   ]
  },
  {
   "cell_type": "markdown",
   "metadata": {},
   "source": [
    "### 可視化\n",
    "\n",
    "以下是一段將數據集進行可視化的代碼，如果前面的代碼編寫正確，會顯示兩行的圖片，第一行是訓練集，第二行是驗證集"
   ]
  },
  {
   "cell_type": "code",
   "execution_count": null,
   "metadata": {
    "execution": {
     "iopub.execute_input": "2025-04-27T07:36:12.545189Z",
     "iopub.status.busy": "2025-04-27T07:36:12.544857Z",
     "iopub.status.idle": "2025-04-27T07:36:13.216183Z",
     "shell.execute_reply": "2025-04-27T07:36:13.215384Z",
     "shell.execute_reply.started": "2025-04-27T07:36:12.545166Z"
    },
    "trusted": true
   },
   "outputs": [
    {
     "data": {
      "image/png": "[encoded data removed]",
      "text/plain": [
       "<Figure size 1500x300 with 5 Axes>"
      ]
     },
     "metadata": {},
     "output_type": "display_data"
    },
    {
     "data": {
      "image/png": "[encoded data removed]",
      "text/plain": [
       "<Figure size 1500x300 with 5 Axes>"
      ]
     },
     "metadata": {},
     "output_type": "display_data"
    }
   ],
   "source": [
    "import matplotlib.pyplot as plt\n",
    "import numpy as np\n",
    "\n",
    "def visualize_samples(loader, title):\n",
    "    images, labels = next(iter(loader))\n",
    "    images = images[:5]\n",
    "    labels = labels[:5]\n",
    "    \n",
    "    plt.figure(figsize=(15, 3))\n",
    "    plt.suptitle(title, fontsize=16)\n",
    "    \n",
    "    for i in range(5):\n",
    "        plt.subplot(1, 5, i+1)\n",
    "        img = images[i].squeeze()\n",
    "        plt.imshow(img.numpy(), cmap='gray' if img.dim() == 2 else None)\n",
    "        plt.title(f\"Label: {labels[i].item()}\")\n",
    "        plt.axis('off')\n",
    "    \n",
    "    plt.tight_layout()\n",
    "    plt.show()\n",
    "\n",
    "# 可視化訓練集樣本\n",
    "visualize_samples(train_loader, \"Training set\")\n",
    "\n",
    "# 可視化驗證集樣本\n",
    "visualize_samples(val_loader, \"Validation set\")"
   ]
  },
  {
   "cell_type": "markdown",
   "metadata": {},
   "source": [
    "### 小題 2：構建 CNN 模型 (15 分)\n",
    "\n",
    "定義一個簡單的 CNN 模型，滿足以下條件：\n",
    "\n",
    "1. 至少包含兩個卷積層 (`nn.Conv2d`) (2分)\n",
    "2. 至少包含兩個池化層 (`nn.MaxPool2d`) (2分)\n",
    "3. 使用激活函數 (`nn.ReLU`, `nn.Sigmoid`, `nn.Tanh`, `nn.ELU`, `nn.LeakyReLU`, `nn.PreLU` 等) (2分)\n",
    "4. 定義輸出層，輸出一個 10 維向量 (對應 10 個類別) (2分)\n",
    "5. 定義前向傳播，將以上所有網絡層連接（7分）\n"
   ]
  },
  {
   "cell_type": "code",
   "execution_count": null,
   "metadata": {
    "execution": {
     "iopub.execute_input": "2025-04-27T07:36:13.217281Z",
     "iopub.status.busy": "2025-04-27T07:36:13.216981Z",
     "iopub.status.idle": "2025-04-27T07:36:13.226815Z",
     "shell.execute_reply": "2025-04-27T07:36:13.226096Z",
     "shell.execute_reply.started": "2025-04-27T07:36:13.217244Z"
    },
    "trusted": true
   },
   "outputs": [
    {
     "name": "stdout",
     "output_type": "stream",
     "text": [
      "CNN(\n",
      "  (conv1): Conv2d(1, 4, kernel_size=(3, 3), stride=(1, 1))\n",
      "  (conv2): Conv2d(4, 16, kernel_size=(3, 3), stride=(1, 1))\n",
      "  (pool): MaxPool2d(kernel_size=2, stride=2, padding=0, dilation=1, ceil_mode=False)\n",
      "  (relu): ReLU()\n",
      "  (fc): Linear(in_features=400, out_features=10, bias=True)\n",
      ")\n"
     ]
    }
   ],
   "source": [
    "class CNN(nn.Module):\n",
    "    def __init__(self):\n",
    "        super(CNN, self).__init__()\n",
    "        # 兩個卷積層\n",
    "        self.conv1 = nn.Conv2d(1, 4, kernel_size=3)\n",
    "        self.conv2 = nn.Conv2d(4, 16, kernel_size=3)\n",
    "        # 池化層\n",
    "        self.pool = nn.MaxPool2d(2)\n",
    "        # 激活函數\n",
    "        self.relu = nn.ReLU()\n",
    "        # 輸出層\n",
    "        self.fc = nn.Linear(5 * 5 * 16, 10)\n",
    "        \n",
    "    def forward(self, x):\n",
    "        x = x.view(-1, 1, 28, 28)\n",
    "        x = self.relu(self.conv1(x))\n",
    "        x = self.pool(x)\n",
    "        x = self.relu(self.conv2(x))\n",
    "        x = self.pool(x)\n",
    "        x = torch.flatten(x, 1)\n",
    "        x = self.fc(x)\n",
    "        return x\n",
    "\n",
    "device = torch.device(\"cuda\" if torch.cuda.is_available() else \"cpu\")\n",
    "model = CNN().to(device)\n",
    "\n",
    "print(model)"
   ]
  },
  {
   "cell_type": "code",
   "execution_count": 20,
   "metadata": {
    "execution": {
     "iopub.execute_input": "2025-04-27T07:36:13.228040Z",
     "iopub.status.busy": "2025-04-27T07:36:13.227722Z",
     "iopub.status.idle": "2025-04-27T07:36:13.285785Z",
     "shell.execute_reply": "2025-04-27T07:36:13.285105Z",
     "shell.execute_reply.started": "2025-04-27T07:36:13.227991Z"
    },
    "trusted": true
   },
   "outputs": [
    {
     "name": "stdout",
     "output_type": "stream",
     "text": [
      "Q2.1通過 (2分)\n",
      "Q2.2通過 (2分)\n",
      "Q2.3通過 (2分)\n",
      "Q2.4通過 (2分)\n",
      "Q2.5通過 (7分)\n"
     ]
    }
   ],
   "source": [
    "# 以下代碼執行後可以判斷你的作答是否正確，請勿修改\n",
    "\n",
    "task_grader.q2_check(model)"
   ]
  },
  {
   "cell_type": "markdown",
   "metadata": {},
   "source": [
    "### 小題 3：訓練模型 (20 分)\n",
    "\n",
    "1. 選擇損失函數 (`MSELoss`, `CrossEntropyLoss` 等) (2分)\n",
    "2. 選擇優化器（`SGD`, `Adam` 等），並設置學習率。 (3分)\n",
    "3. 模型訓練**至少** 5 個 epoch，並在每個 epoch 結束時分別打印訓練集和驗證集的損失函數和準確率。 (15分)\n"
   ]
  },
  {
   "cell_type": "code",
   "execution_count": null,
   "metadata": {
    "execution": {
     "iopub.execute_input": "2025-04-27T07:36:13.286698Z",
     "iopub.status.busy": "2025-04-27T07:36:13.286508Z",
     "iopub.status.idle": "2025-04-27T07:36:20.904192Z",
     "shell.execute_reply": "2025-04-27T07:36:20.903129Z",
     "shell.execute_reply.started": "2025-04-27T07:36:13.286681Z"
    },
    "trusted": true
   },
   "outputs": [
    {
     "name": "stdout",
     "output_type": "stream",
     "text": [
      "Epoch 1, Batch 0, Train Loss: 2.3898, Train Accuracy: 7.81%\n",
      "Epoch 1, Batch 100, Train Loss: 0.3156, Train Accuracy: 91.41%\n",
      "Epoch 1, Batch 200, Train Loss: 0.2372, Train Accuracy: 93.75%\n",
      "Epoch 1, Batch 300, Train Loss: 0.2535, Train Accuracy: 92.19%\n",
      "Epoch 1, Val Loss: 0.1806, Val Accuracy: 93.66%\n",
      "Epoch 2, Batch 0, Train Loss: 0.2205, Train Accuracy: 96.09%\n",
      "Epoch 2, Batch 100, Train Loss: 0.0742, Train Accuracy: 99.22%\n",
      "Epoch 2, Batch 200, Train Loss: 0.1315, Train Accuracy: 95.31%\n",
      "Epoch 2, Batch 300, Train Loss: 0.1344, Train Accuracy: 96.88%\n",
      "Epoch 2, Val Loss: 0.0841, Val Accuracy: 96.47%\n",
      "Epoch 3, Batch 0, Train Loss: 0.1230, Train Accuracy: 96.09%\n",
      "Epoch 3, Batch 100, Train Loss: 0.1238, Train Accuracy: 96.09%\n",
      "Epoch 3, Batch 200, Train Loss: 0.0717, Train Accuracy: 96.88%\n",
      "Epoch 3, Batch 300, Train Loss: 0.0576, Train Accuracy: 98.44%\n",
      "Epoch 3, Val Loss: 0.0654, Val Accuracy: 97.12%\n",
      "Epoch 4, Batch 0, Train Loss: 0.0284, Train Accuracy: 99.22%\n",
      "Epoch 4, Batch 100, Train Loss: 0.1099, Train Accuracy: 98.44%\n",
      "Epoch 4, Batch 200, Train Loss: 0.1198, Train Accuracy: 94.53%\n",
      "Epoch 4, Batch 300, Train Loss: 0.0807, Train Accuracy: 98.44%\n",
      "Epoch 4, Val Loss: 0.0604, Val Accuracy: 97.43%\n",
      "Epoch 5, Batch 0, Train Loss: 0.0959, Train Accuracy: 94.53%\n",
      "Epoch 5, Batch 100, Train Loss: 0.0303, Train Accuracy: 98.44%\n",
      "Epoch 5, Batch 200, Train Loss: 0.0140, Train Accuracy: 100.00%\n",
      "Epoch 5, Batch 300, Train Loss: 0.1653, Train Accuracy: 94.53%\n",
      "Epoch 5, Val Loss: 0.0383, Val Accuracy: 97.43%\n"
     ]
    }
   ],
   "source": [
    "from sklearn.metrics import accuracy_score\n",
    "\n",
    "# 選擇損失函數\n",
    "criterion = nn.CrossEntropyLoss()\n",
    "\n",
    "# 選擇優化器\n",
    "optimizer = torch.optim.Adam(model.parameters(), lr=0.001)\n",
    "\n",
    "train_losses = []\n",
    "train_accs = []\n",
    "val_losses = []\n",
    "val_accs = []\n",
    "\n",
    "# 訓練循環\n",
    "for epoch in range(5):\n",
    "    model.train()\n",
    "    for batch_idx, (images, labels) in enumerate(train_loader):\n",
    "        optimizer.zero_grad()\n",
    "        images = images.to(device)\n",
    "        labels = labels.to(device)\n",
    "        outputs = model(images)\n",
    "        loss = criterion(outputs, labels)\n",
    "        loss.backward()\n",
    "        optimizer.step()\n",
    "        \n",
    "        preds = outputs.argmax(dim=1)\n",
    "        train_loss = loss.item()\n",
    "        train_acc = accuracy_score(labels.cpu().numpy(), preds.cpu().numpy())\n",
    "        print(batch_idx)\n",
    "        # 以下是記錄損失函數和準確率的代碼，不用修改\n",
    "        if batch_idx % 100 == 0:\n",
    "            train_losses.append(train_loss)\n",
    "            train_accs.append(train_acc)\n",
    "            print(f\"Epoch {epoch+1}, Batch {batch_idx}, Train Loss: {train_loss:.4f}, Train Accuracy: {train_acc * 100:.2f}%\")\n",
    "    \n",
    "    model.eval()\n",
    "\n",
    "    val_preds, val_true = [], []\n",
    "    with torch.no_grad():\n",
    "        for images, labels in val_loader:\n",
    "            images = images.to(device)\n",
    "            outputs = model(images)\n",
    "            \n",
    "            val_preds.extend(outputs.argmax(dim=1).cpu().numpy())\n",
    "            val_true.extend(labels.numpy())\n",
    "\n",
    "    val_loss = criterion(outputs.cpu(), labels).item()\n",
    "    val_acc = accuracy_score(val_true, val_preds)\n",
    "    \n",
    "    # 以下是記錄損失函數和準確率的代碼，不用修改\n",
    "    val_accs.append(val_acc)\n",
    "    val_losses.append(val_loss)\n",
    "    print(f\"Epoch {epoch+1}, Val Loss: {val_loss:.4f}, Val Accuracy: {val_acc * 100:.2f}%\")"
   ]
  },
  {
   "cell_type": "code",
   "execution_count": null,
   "metadata": {
    "execution": {
     "iopub.execute_input": "2025-04-27T07:36:20.907292Z",
     "iopub.status.busy": "2025-04-27T07:36:20.906942Z",
     "iopub.status.idle": "2025-04-27T07:36:20.913527Z",
     "shell.execute_reply": "2025-04-27T07:36:20.912973Z",
     "shell.execute_reply.started": "2025-04-27T07:36:20.907259Z"
    },
    "trusted": true
   },
   "outputs": [
    {
     "name": "stdout",
     "output_type": "stream",
     "text": [
      "Q3.1通過 (5分)\n",
      "Q3.2通過 (15分)\n"
     ]
    }
   ],
   "source": [
    "# 以下代碼執行後可以判斷你的作答是否正確，請勿修改\n",
    "\n",
    "task_grader.q3_1_check(criterion, optimizer)\n",
    "task_grader.q3_2_check(train_losses, val_losses, train_accs, val_accs)"
   ]
  },
  {
   "cell_type": "markdown",
   "metadata": {},
   "source": [
    "### 可視化\n",
    "\n",
    "以下是一段將數據集進行可視化的代碼，如果前面的代碼編寫正確，會顯示一行圖片，並顯示模型識別出該圖片是哪一個數字"
   ]
  },
  {
   "cell_type": "code",
   "execution_count": null,
   "metadata": {
    "execution": {
     "iopub.execute_input": "2025-04-27T07:37:19.362535Z",
     "iopub.status.busy": "2025-04-27T07:37:19.362226Z",
     "iopub.status.idle": "2025-04-27T07:37:19.698592Z",
     "shell.execute_reply": "2025-04-27T07:37:19.697946Z",
     "shell.execute_reply.started": "2025-04-27T07:37:19.362511Z"
    },
    "trusted": true
   },
   "outputs": [
    {
     "data": {
      "image/png": "[encoded data removed]",
      "text/plain": [
       "<Figure size 1500x300 with 5 Axes>"
      ]
     },
     "metadata": {},
     "output_type": "display_data"
    }
   ],
   "source": [
    "def visualize_predictions(loader, model, title):\n",
    "    images, true_labels = next(iter(loader))\n",
    "    images = images.to(device)\n",
    "    \n",
    "    model.eval()\n",
    "    with torch.no_grad():\n",
    "        outputs = model(images)\n",
    "        pred_probs = torch.softmax(outputs, dim=1)\n",
    "        pred_labels = outputs.argmax(dim=1)\n",
    "    \n",
    "    images = images[:5].cpu()\n",
    "    true_labels = true_labels[:5]\n",
    "    pred_labels = pred_labels[:5].cpu()\n",
    "    pred_probs = pred_probs[:5].cpu()\n",
    "    \n",
    "    plt.figure(figsize=(15, 3))\n",
    "    plt.suptitle(title, fontsize=16)\n",
    "    \n",
    "    for i in range(5):\n",
    "        plt.subplot(1, 5, i+1)\n",
    "        img = images[i].squeeze()\n",
    "        \n",
    "        plt.imshow(img.numpy(), cmap='gray' if img.dim() == 2 else None)\n",
    "        pred_prob = pred_probs[i][pred_labels[i]].item()\n",
    "        plt.title(f\"Prediction: {pred_labels[i].item()}, Answer: {true_labels[i].item()}\", \n",
    "                 color='green' if pred_labels[i].item() == true_labels[i].item() else 'red')\n",
    "        plt.axis('off')\n",
    "    \n",
    "    plt.tight_layout()\n",
    "    plt.show()\n",
    "\n",
    "visualize_predictions(val_loader, model, \"Predictions\")"
   ]
  },
  {
   "cell_type": "markdown",
   "metadata": {},
   "source": [
    "### 提交\n",
    "\n",
    "以下代碼會生成一個 `submission.csv`，選手只需要在右側菜單中選擇 `Submit to competition > Submit` 就可以完成提交"
   ]
  },
  {
   "cell_type": "code",
   "execution_count": null,
   "metadata": {
    "execution": {
     "iopub.execute_input": "2025-04-27T07:36:21.275134Z",
     "iopub.status.busy": "2025-04-27T07:36:21.274816Z",
     "iopub.status.idle": "2025-04-27T07:36:21.419310Z",
     "shell.execute_reply": "2025-04-27T07:36:21.418606Z",
     "shell.execute_reply.started": "2025-04-27T07:36:21.275102Z"
    },
    "trusted": true
   },
   "outputs": [],
   "source": [
    "import torch\n",
    "import pandas as pd\n",
    "\n",
    "test_images = torch.load('/kaggle/input/moai-2025-training/test_images.pt', weights_only=True)\n",
    "test_images = (test_images.float() - test_images.float().mean()) /test_images.float().std()\n",
    "\n",
    "model.eval()\n",
    "with torch.no_grad():\n",
    "    device = next(model.parameters()).device\n",
    "    outputs = model(test_images.to(device))\n",
    "    predictions = outputs.argmax(dim=1)\n",
    "\n",
    "df_test = pd.DataFrame({\"label\": predictions.cpu().numpy()})\n",
    "df_test.to_csv(\"submission.csv\", index_label=\"id\")"
   ]
  }
 ],
 "metadata": {
  "kaggle": {
   "accelerator": "nvidiaTeslaT4",
   "dataSources": [
    {
     "databundleVersionId": 11751604,
     "sourceId": 98462,
     "sourceType": "competition"
    }
   ],
   "dockerImageVersionId": 30918,
   "isGpuEnabled": true,
   "isInternetEnabled": true,
   "language": "python",
   "sourceType": "notebook"
  },
  "kernelspec": {
   "display_name": "Python 3",
   "language": "python",
   "name": "python3"
  },
  "language_info": {
   "codemirror_mode": {
    "name": "ipython",
    "version": 3
   },
   "file_extension": ".py",
   "mimetype": "text/x-python",
   "name": "python",
   "nbconvert_exporter": "python",
   "pygments_lexer": "ipython3",
   "version": "3.10.12"
  }
 },
 "nbformat": 4,
 "nbformat_minor": 4
}
